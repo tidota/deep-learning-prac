{
 "cells": [
  {
   "cell_type": "markdown",
   "metadata": {},
   "source": [
    "# Test run of tensorflow\n",
    "\n",
    "To use GPU, `tensorflow-gpu` must be installed.\n",
    "If a Nvidia graphic card with compute capability 3.0 is used, `tensorflow-gpu` must be compiled from the source code. \n",
    "\n",
    "Step-by-step instructions to install `tensorflow-gpu`: [How to install Tensorflow GPU with CUDA 10.0 for python on Ubuntu ](https://www.python36.com/how-to-install-tensorflow-gpu-with-cuda-10-0-for-python-on-ubuntu/)."
   ]
  },
  {
   "cell_type": "markdown",
   "metadata": {},
   "source": [
    "# To check available devices"
   ]
  },
  {
   "cell_type": "code",
   "execution_count": 20,
   "metadata": {},
   "outputs": [
    {
     "data": {
      "text/plain": [
       "[_DeviceAttributes(/job:localhost/replica:0/task:0/device:CPU:0, CPU, 268435456, 9485217681152849975),\n",
       " _DeviceAttributes(/job:localhost/replica:0/task:0/device:XLA_CPU:0, XLA_CPU, 17179869184, 7083424341597138564),\n",
       " _DeviceAttributes(/job:localhost/replica:0/task:0/device:XLA_GPU:0, XLA_GPU, 17179869184, 2826969233803668956),\n",
       " _DeviceAttributes(/job:localhost/replica:0/task:0/device:GPU:0, GPU, 642318336, 15283603079377906746)]"
      ]
     },
     "execution_count": 20,
     "metadata": {},
     "output_type": "execute_result"
    }
   ],
   "source": [
    "import tensorflow as tf\n",
    "     \n",
    "with tf.Session() as sess:\n",
    "  devices = sess.list_devices()\n",
    "devices"
   ]
  },
  {
   "cell_type": "code",
   "execution_count": 8,
   "metadata": {},
   "outputs": [
    {
     "name": "stdout",
     "output_type": "stream",
     "text": [
      "[name: \"/device:CPU:0\"\n",
      "device_type: \"CPU\"\n",
      "memory_limit: 268435456\n",
      "locality {\n",
      "}\n",
      "incarnation: 8378770488632945219\n",
      ", name: \"/device:XLA_CPU:0\"\n",
      "device_type: \"XLA_CPU\"\n",
      "memory_limit: 17179869184\n",
      "locality {\n",
      "}\n",
      "incarnation: 1566091197622035554\n",
      "physical_device_desc: \"device: XLA_CPU device\"\n",
      ", name: \"/device:XLA_GPU:0\"\n",
      "device_type: \"XLA_GPU\"\n",
      "memory_limit: 17179869184\n",
      "locality {\n",
      "}\n",
      "incarnation: 17136783531829160596\n",
      "physical_device_desc: \"device: XLA_GPU device\"\n",
      ", name: \"/device:GPU:0\"\n",
      "device_type: \"GPU\"\n",
      "memory_limit: 657719296\n",
      "locality {\n",
      "  bus_id: 1\n",
      "  links {\n",
      "  }\n",
      "}\n",
      "incarnation: 6954094525093111311\n",
      "physical_device_desc: \"device: 0, name: Quadro K600, pci bus id: 0000:04:00.0, compute capability: 3.0\"\n",
      "]\n"
     ]
    }
   ],
   "source": [
    "from tensorflow.python.client import device_lib\n",
    "print(device_lib.list_local_devices())"
   ]
  },
  {
   "cell_type": "markdown",
   "metadata": {},
   "source": [
    "# tensorflow-gpu\n",
    "\n",
    "If tensorflow-gpu is installed, GPU is used in default, i.e., `GPU:0`."
   ]
  },
  {
   "cell_type": "code",
   "execution_count": 4,
   "metadata": {
    "scrolled": true
   },
   "outputs": [
    {
     "name": "stdout",
     "output_type": "stream",
     "text": [
      "Epoch 1/5\n",
      "60000/60000 [==============================] - 21s 343us/step - loss: 0.2042 - acc: 0.9402\n",
      "Epoch 2/5\n",
      "60000/60000 [==============================] - 20s 335us/step - loss: 0.0815 - acc: 0.9753\n",
      "Epoch 3/5\n",
      "60000/60000 [==============================] - 20s 339us/step - loss: 0.0537 - acc: 0.9831\n",
      "Epoch 4/5\n",
      "60000/60000 [==============================] - 20s 331us/step - loss: 0.0369 - acc: 0.9881\n",
      "Epoch 5/5\n",
      "60000/60000 [==============================] - 20s 325us/step - loss: 0.0276 - acc: 0.9908\n",
      "10000/10000 [==============================] - 1s 119us/step\n"
     ]
    },
    {
     "data": {
      "text/plain": [
       "[0.07051203480479017, 0.9797]"
      ]
     },
     "execution_count": 4,
     "metadata": {},
     "output_type": "execute_result"
    }
   ],
   "source": [
    "import tensorflow as tf\n",
    "\n",
    "mnist = tf.keras.datasets.mnist\n",
    "\n",
    "(x_train, y_train),(x_test, y_test) = mnist.load_data()\n",
    "x_train, x_test = x_train / 255.0, x_test / 255.0\n",
    "\n",
    "model = tf.keras.models.Sequential([\n",
    "  tf.keras.layers.Flatten(),\n",
    "  tf.keras.layers.Dense(512, activation=tf.nn.relu),\n",
    "  tf.keras.layers.Dropout(0.2),\n",
    "  tf.keras.layers.Dense(10, activation=tf.nn.softmax)\n",
    "])\n",
    "model.compile(optimizer='adam',\n",
    "              loss='sparse_categorical_crossentropy',\n",
    "              metrics=['accuracy'])\n",
    "\n",
    "model.fit(x_train, y_train, epochs=5)\n",
    "model.evaluate(x_test, y_test)"
   ]
  },
  {
   "cell_type": "code",
   "execution_count": 6,
   "metadata": {},
   "outputs": [
    {
     "name": "stdout",
     "output_type": "stream",
     "text": [
      "60000 train samples\n",
      "10000 test samples\n",
      "_________________________________________________________________\n",
      "Layer (type)                 Output Shape              Param #   \n",
      "=================================================================\n",
      "dense_8 (Dense)              (None, 512)               401920    \n",
      "_________________________________________________________________\n",
      "dropout_4 (Dropout)          (None, 512)               0         \n",
      "_________________________________________________________________\n",
      "dense_9 (Dense)              (None, 512)               262656    \n",
      "_________________________________________________________________\n",
      "dropout_5 (Dropout)          (None, 512)               0         \n",
      "_________________________________________________________________\n",
      "dense_10 (Dense)             (None, 10)                5130      \n",
      "=================================================================\n",
      "Total params: 669,706\n",
      "Trainable params: 669,706\n",
      "Non-trainable params: 0\n",
      "_________________________________________________________________\n",
      "Train on 60000 samples, validate on 10000 samples\n",
      "Epoch 1/10\n",
      "60000/60000 [==============================] - 8s 137us/step - loss: 0.2419 - acc: 0.9262 - val_loss: 0.1177 - val_acc: 0.9652\n",
      "Epoch 2/10\n",
      "60000/60000 [==============================] - 8s 126us/step - loss: 0.1047 - acc: 0.9686 - val_loss: 0.0825 - val_acc: 0.9745\n",
      "Epoch 3/10\n",
      "60000/60000 [==============================] - 8s 126us/step - loss: 0.0771 - acc: 0.9770 - val_loss: 0.0772 - val_acc: 0.9774\n",
      "Epoch 4/10\n",
      "60000/60000 [==============================] - 8s 126us/step - loss: 0.0610 - acc: 0.9815 - val_loss: 0.0781 - val_acc: 0.9800\n",
      "Epoch 5/10\n",
      "60000/60000 [==============================] - 8s 129us/step - loss: 0.0497 - acc: 0.9852 - val_loss: 0.0711 - val_acc: 0.9813\n",
      "Epoch 6/10\n",
      "60000/60000 [==============================] - 8s 129us/step - loss: 0.0439 - acc: 0.9872 - val_loss: 0.0785 - val_acc: 0.9799\n",
      "Epoch 7/10\n",
      "60000/60000 [==============================] - 8s 126us/step - loss: 0.0385 - acc: 0.9884 - val_loss: 0.0755 - val_acc: 0.9827\n",
      "Epoch 8/10\n",
      "60000/60000 [==============================] - 8s 127us/step - loss: 0.0368 - acc: 0.9895 - val_loss: 0.0916 - val_acc: 0.9808\n",
      "Epoch 9/10\n",
      "60000/60000 [==============================] - 8s 127us/step - loss: 0.0326 - acc: 0.9905 - val_loss: 0.0867 - val_acc: 0.9793\n",
      "Epoch 10/10\n",
      "60000/60000 [==============================] - 8s 127us/step - loss: 0.0274 - acc: 0.9919 - val_loss: 0.0962 - val_acc: 0.9812\n",
      "Test loss: 0.09620538140317117\n",
      "Test accuracy: 0.9812\n"
     ]
    }
   ],
   "source": [
    "from __future__ import print_function\n",
    "\n",
    "import tensorflow as tf\n",
    "mnist = tf.keras.datasets.mnist\n",
    "Sequential = tf.keras.models.Sequential\n",
    "Dense = tf.keras.layers.Dense\n",
    "Dropout = tf.keras.layers.Dropout\n",
    "RMSprop = tf.keras.optimizers.RMSprop\n",
    "\n",
    "batch_size = 128\n",
    "num_classes = 10\n",
    "epochs = 10\n",
    "\n",
    "# the data, shuffled and split between train and test sets\n",
    "(x_train, y_train), (x_test, y_test) = mnist.load_data()\n",
    "\n",
    "x_train = x_train.reshape(60000, 784)\n",
    "x_test = x_test.reshape(10000, 784)\n",
    "x_train = x_train.astype('float32')\n",
    "x_test = x_test.astype('float32')\n",
    "x_train /= 255\n",
    "x_test /= 255\n",
    "print(x_train.shape[0], 'train samples')\n",
    "print(x_test.shape[0], 'test samples')\n",
    "\n",
    "# convert class vectors to binary class matrices\n",
    "y_train = tf.keras.utils.to_categorical(y_train, num_classes)\n",
    "y_test = tf.keras.utils.to_categorical(y_test, num_classes)\n",
    "\n",
    "model = Sequential()\n",
    "model.add(Dense(512, activation='relu', input_shape=(784,)))\n",
    "model.add(Dropout(0.2))\n",
    "model.add(Dense(512, activation='relu'))\n",
    "model.add(Dropout(0.2))\n",
    "model.add(Dense(10, activation='softmax'))\n",
    "\n",
    "model.summary()\n",
    "\n",
    "model.compile(loss='categorical_crossentropy',\n",
    "              optimizer=RMSprop(),\n",
    "              metrics=['accuracy'])\n",
    "\n",
    "history = model.fit(x_train, y_train,\n",
    "                    batch_size=batch_size,\n",
    "                    epochs=epochs,\n",
    "                    verbose=1,\n",
    "                    validation_data=(x_test, y_test))\n",
    "score = model.evaluate(x_test, y_test, verbose=0)\n",
    "print('Test loss:', score[0])\n",
    "print('Test accuracy:', score[1])\n"
   ]
  },
  {
   "cell_type": "markdown",
   "metadata": {},
   "source": [
    "# tensorflow (by CPU)\n",
    "\n",
    "If tensorflow-gpu is installed, CPU must be specified to be used."
   ]
  },
  {
   "cell_type": "code",
   "execution_count": 2,
   "metadata": {},
   "outputs": [
    {
     "name": "stdout",
     "output_type": "stream",
     "text": [
      "Epoch 1/5\n",
      "60000/60000 [==============================] - 13s 212us/step - loss: 0.1997 - acc: 0.9410\n",
      "Epoch 2/5\n",
      "60000/60000 [==============================] - 12s 207us/step - loss: 0.0789 - acc: 0.9759\n",
      "Epoch 3/5\n",
      "60000/60000 [==============================] - 12s 204us/step - loss: 0.0517 - acc: 0.9836\n",
      "Epoch 4/5\n",
      "60000/60000 [==============================] - 12s 204us/step - loss: 0.0358 - acc: 0.9887\n",
      "Epoch 5/5\n",
      "60000/60000 [==============================] - 12s 203us/step - loss: 0.0276 - acc: 0.9910\n",
      "10000/10000 [==============================] - 1s 86us/step\n"
     ]
    }
   ],
   "source": [
    "import tensorflow as tf\n",
    "\n",
    "with tf.device(\"/cpu:0\"):\n",
    "    mnist = tf.keras.datasets.mnist\n",
    "\n",
    "    (x_train, y_train),(x_test, y_test) = mnist.load_data()\n",
    "    x_train, x_test = x_train / 255.0, x_test / 255.0\n",
    "\n",
    "    model = tf.keras.models.Sequential([\n",
    "      tf.keras.layers.Flatten(),\n",
    "      tf.keras.layers.Dense(512, activation=tf.nn.relu),\n",
    "      tf.keras.layers.Dropout(0.2),\n",
    "      tf.keras.layers.Dense(10, activation=tf.nn.softmax)\n",
    "    ])\n",
    "    model.compile(optimizer='adam',\n",
    "                  loss='sparse_categorical_crossentropy',\n",
    "                  metrics=['accuracy'])\n",
    "\n",
    "    model.fit(x_train, y_train, epochs=5)\n",
    "    model.evaluate(x_test, y_test)"
   ]
  },
  {
   "cell_type": "code",
   "execution_count": 7,
   "metadata": {},
   "outputs": [
    {
     "name": "stdout",
     "output_type": "stream",
     "text": [
      "60000 train samples\n",
      "10000 test samples\n",
      "_________________________________________________________________\n",
      "Layer (type)                 Output Shape              Param #   \n",
      "=================================================================\n",
      "dense_11 (Dense)             (None, 512)               401920    \n",
      "_________________________________________________________________\n",
      "dropout_6 (Dropout)          (None, 512)               0         \n",
      "_________________________________________________________________\n",
      "dense_12 (Dense)             (None, 512)               262656    \n",
      "_________________________________________________________________\n",
      "dropout_7 (Dropout)          (None, 512)               0         \n",
      "_________________________________________________________________\n",
      "dense_13 (Dense)             (None, 10)                5130      \n",
      "=================================================================\n",
      "Total params: 669,706\n",
      "Trainable params: 669,706\n",
      "Non-trainable params: 0\n",
      "_________________________________________________________________\n",
      "Train on 60000 samples, validate on 10000 samples\n",
      "Epoch 1/10\n",
      "60000/60000 [==============================] - 6s 106us/step - loss: 0.2473 - acc: 0.9226 - val_loss: 0.1094 - val_acc: 0.9647\n",
      "Epoch 2/10\n",
      "60000/60000 [==============================] - 6s 95us/step - loss: 0.1020 - acc: 0.9689 - val_loss: 0.0884 - val_acc: 0.9737\n",
      "Epoch 3/10\n",
      "60000/60000 [==============================] - 6s 96us/step - loss: 0.0747 - acc: 0.9772 - val_loss: 0.0781 - val_acc: 0.9773\n",
      "Epoch 4/10\n",
      "60000/60000 [==============================] - 6s 97us/step - loss: 0.0588 - acc: 0.9826 - val_loss: 0.0734 - val_acc: 0.9800\n",
      "Epoch 5/10\n",
      "60000/60000 [==============================] - 5s 91us/step - loss: 0.0507 - acc: 0.9844 - val_loss: 0.1033 - val_acc: 0.9750\n",
      "Epoch 6/10\n",
      "60000/60000 [==============================] - 6s 96us/step - loss: 0.0436 - acc: 0.9875 - val_loss: 0.0758 - val_acc: 0.9804\n",
      "Epoch 7/10\n",
      "60000/60000 [==============================] - 6s 96us/step - loss: 0.0384 - acc: 0.9884 - val_loss: 0.0708 - val_acc: 0.9841\n",
      "Epoch 8/10\n",
      "60000/60000 [==============================] - 6s 96us/step - loss: 0.0327 - acc: 0.9903 - val_loss: 0.0914 - val_acc: 0.9801\n",
      "Epoch 9/10\n",
      "60000/60000 [==============================] - 6s 96us/step - loss: 0.0309 - acc: 0.9905 - val_loss: 0.0774 - val_acc: 0.9829\n",
      "Epoch 10/10\n",
      "60000/60000 [==============================] - 6s 95us/step - loss: 0.0282 - acc: 0.9919 - val_loss: 0.0968 - val_acc: 0.9820\n",
      "Test loss: 0.09675676376313963\n",
      "Test accuracy: 0.982\n"
     ]
    }
   ],
   "source": [
    "from __future__ import print_function\n",
    "\n",
    "import tensorflow as tf\n",
    "\n",
    "with tf.device(\"/cpu:0\"):\n",
    "    mnist = tf.keras.datasets.mnist\n",
    "    Sequential = tf.keras.models.Sequential\n",
    "    Dense = tf.keras.layers.Dense\n",
    "    Dropout = tf.keras.layers.Dropout\n",
    "    RMSprop = tf.keras.optimizers.RMSprop\n",
    "\n",
    "    batch_size = 128\n",
    "    num_classes = 10\n",
    "    epochs = 10\n",
    "\n",
    "    # the data, shuffled and split between train and test sets\n",
    "    (x_train, y_train), (x_test, y_test) = mnist.load_data()\n",
    "\n",
    "    x_train = x_train.reshape(60000, 784)\n",
    "    x_test = x_test.reshape(10000, 784)\n",
    "    x_train = x_train.astype('float32')\n",
    "    x_test = x_test.astype('float32')\n",
    "    x_train /= 255\n",
    "    x_test /= 255\n",
    "    print(x_train.shape[0], 'train samples')\n",
    "    print(x_test.shape[0], 'test samples')\n",
    "\n",
    "    # convert class vectors to binary class matrices\n",
    "    y_train = tf.keras.utils.to_categorical(y_train, num_classes)\n",
    "    y_test = tf.keras.utils.to_categorical(y_test, num_classes)\n",
    "\n",
    "    model = Sequential()\n",
    "    model.add(Dense(512, activation='relu', input_shape=(784,)))\n",
    "    model.add(Dropout(0.2))\n",
    "    model.add(Dense(512, activation='relu'))\n",
    "    model.add(Dropout(0.2))\n",
    "    model.add(Dense(10, activation='softmax'))\n",
    "\n",
    "    model.summary()\n",
    "\n",
    "    model.compile(loss='categorical_crossentropy',\n",
    "                  optimizer=RMSprop(),\n",
    "                  metrics=['accuracy'])\n",
    "\n",
    "    history = model.fit(x_train, y_train,\n",
    "                        batch_size=batch_size,\n",
    "                        epochs=epochs,\n",
    "                        verbose=1,\n",
    "                        validation_data=(x_test, y_test))\n",
    "    score = model.evaluate(x_test, y_test, verbose=0)\n",
    "    print('Test loss:', score[0])\n",
    "    print('Test accuracy:', score[1])"
   ]
  },
  {
   "cell_type": "markdown",
   "metadata": {},
   "source": [
    "# Misc code"
   ]
  },
  {
   "cell_type": "code",
   "execution_count": 13,
   "metadata": {},
   "outputs": [
    {
     "name": "stdout",
     "output_type": "stream",
     "text": [
      "[[22. 28.]\n",
      " [49. 64.]]\n"
     ]
    }
   ],
   "source": [
    "import tensorflow as tf\n",
    "tf.device('/gpu:0')\n",
    "a = tf.constant([1.0, 2.0, 3.0, 4.0, 5.0, 6.0], shape=[2, 3], name='a')\n",
    "b = tf.constant([1.0, 2.0, 3.0, 4.0, 5.0, 6.0], shape=[3, 2], name='b')\n",
    "c = tf.matmul(a, b)\n",
    "\n",
    "with tf.Session() as sess:\n",
    "    print (sess.run(c))"
   ]
  },
  {
   "cell_type": "code",
   "execution_count": null,
   "metadata": {},
   "outputs": [],
   "source": []
  }
 ],
 "metadata": {
  "kernelspec": {
   "display_name": "Python 3",
   "language": "python",
   "name": "python3"
  },
  "language_info": {
   "codemirror_mode": {
    "name": "ipython",
    "version": 3
   },
   "file_extension": ".py",
   "mimetype": "text/x-python",
   "name": "python",
   "nbconvert_exporter": "python",
   "pygments_lexer": "ipython3",
   "version": "3.6.7"
  }
 },
 "nbformat": 4,
 "nbformat_minor": 2
}
